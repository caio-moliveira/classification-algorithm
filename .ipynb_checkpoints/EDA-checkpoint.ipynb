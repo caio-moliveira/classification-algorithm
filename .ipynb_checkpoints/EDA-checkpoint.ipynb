{
 "cells": [
  {
   "cell_type": "markdown",
   "id": "f7afa1b1-1c69-4d41-a15e-1f7017f5b40e",
   "metadata": {},
   "source": [
    "# CA1"
   ]
  },
  {
   "cell_type": "markdown",
   "id": "ea7da536-aa6e-4a1b-b485-a6ee48fe6cd0",
   "metadata": {},
   "source": [
    "## Introduction"
   ]
  },
  {
   "cell_type": "markdown",
   "id": "05114ebb-556a-4dd8-940b-695195b8bbdb",
   "metadata": {},
   "source": [
    "Network systems are a combination of hardware and software used for various network transactions. Firewall systems control and monitor incoming and outgoing network traffic to detect unauthorized access. Machine learning algorithms have been applied in various real-world problems and may outperform classical network systems in preventing unauthorized internet access.\n",
    "\n",
    "Firewall log activities require analysis to determine exactly what is allowed, dropped, and denied. It is not easy due to working with large raw data collected from the Internet Access Management in different periods of time. Firewall log files become high volume, and the systems used are olume and the systems used are\r\n",
    "inca.\n",
    "\n",
    "The main goal of this assignment is to use Machine Learning model to analyze network traffic \n",
    "dataseses. The utilized models includDecision Tree, Random Forest And K-Nearest Neighbor (K-NN)NN. T e\r\n",
    "modeaimaim to predict the recommended action to be takconcerning to each session\r\n",
    "as traffic flows through the netwoAfter applying the modelmore, we assessed the performance of t ese\r\n",
    "classifiers in terms of accuracy, precision, r, andcalscore.d ROCpable of handling extensive data"
   ]
  },
  {
   "cell_type": "markdown",
   "id": "25137746-6542-4925-a4ab-261b51f34d26",
   "metadata": {},
   "source": [
    "### •\tPerform an initial analysis of the data (EDA) using python in your Jupyter notebook. Discuss your findings and what relevance they might have on your planned classification algorithms. "
   ]
  },
  {
   "cell_type": "markdown",
   "id": "c27e51a1-ddbf-4e29-8af1-5836d69762ba",
   "metadata": {},
   "source": [
    "Exploratory data analysis (EDA) is an important and recommended first step prior to the training of a\n",
    "machine learning model. In the rest of this section, we will use some simple yet useful techniques from the\n",
    "graphical EDA toolbox that may help us to visually detect the presence of outliers, the distribution of the\n",
    "data, and the relationships between features.(Raschka and Mirjalili, 2019)\n"
   ]
  },
  {
   "cell_type": "code",
   "execution_count": null,
   "id": "554e7c02-0834-4381-ae38-16de12bdbc5c",
   "metadata": {},
   "outputs": [],
   "source": [
    "# importing libraries\n",
    "import pandas as pd\n",
    "import numpy as np\n",
    "import matplotlib.pyplot as plt\n",
    "import seaborn as sns\n",
    "import matplotlib.image as pltimg\n",
    "import pydotplus\n",
    "from sklearn.model_selection import GridSearchCV\n",
    "from sklearn.model_selection import RandomizedSearchCV\n",
    "from sklearn.metrics import confusion_matrix, accuracy_score, classification_report\n",
    "from sklearn.tree import DecisionTreeClassifier\n",
    "from sklearn.ensemble import RandomForestClassifier\n",
    "from sklearn.neighbors import KNeighborsClassifier\n",
    "from sklearn import preprocessing \n",
    "from sklearn import tree"
   ]
  },
  {
   "cell_type": "code",
   "execution_count": null,
   "id": "768e14d0-ea49-4873-8d35-c677f14a1cbf",
   "metadata": {},
   "outputs": [],
   "source": [
    "#reading file\n",
    "data = pd.read_csv(\"log2.csv\")\n",
    "\n",
    "data.head()"
   ]
  },
  {
   "cell_type": "markdown",
   "id": "51881a58-63b7-4c9c-9197-c0bac84560ba",
   "metadata": {},
   "source": [
    "Let's start using .describe() and .info() to pull information about the dataset. \n",
    "\n",
    "- .describe() - Allow the understanding of each feature (Column). It is possible to see on the numerical features the huge gap between the Q3(75%) and the max values. Also, the categorical values \"NATSource Port\" and \"NAT Destination Port\" have a huge presence of 0 values.\n",
    "- .info() - Effect way to check for missing or null values."
   ]
  },
  {
   "cell_type": "code",
   "execution_count": null,
   "id": "07773636-548c-4ee6-9b08-745608dc990d",
   "metadata": {
    "scrolled": true
   },
   "outputs": [],
   "source": [
    "data.describe()"
   ]
  },
  {
   "cell_type": "code",
   "execution_count": null,
   "id": "dfa3c03b-812a-4581-aa7f-7b26e20084d5",
   "metadata": {},
   "outputs": [],
   "source": [
    "data.info()"
   ]
  },
  {
   "cell_type": "code",
   "execution_count": null,
   "id": "4bb35a74-f74b-47f2-8057-d7b180b128bf",
   "metadata": {},
   "outputs": [],
   "source": [
    "# Calculate the top unique values for each column\n",
    "top_unique_values = {column: data[column].value_counts().head(3) for column in data.columns}\n",
    "\n",
    "top_unique_values"
   ]
  },
  {
   "cell_type": "markdown",
   "id": "8b93b5b3-373c-45cd-9d10-8551a8cb8820",
   "metadata": {},
   "source": [
    "### Understanding the target value (Action) \n",
    "\n",
    "we were provided with a network log dataset that contains 65k observations. \n",
    "- 57.43% \"Allow\"\n",
    "- 22.86% \"Deny\"\n",
    "- 19.61% \"Drop\"\n",
    "- 0.08% \"Reset-both\""
   ]
  },
  {
   "cell_type": "code",
   "execution_count": null,
   "id": "68982738-f4f6-443b-b0a2-35956e57791c",
   "metadata": {
    "scrolled": true
   },
   "outputs": [],
   "source": [
    "# target distribution\n",
    "print('Absolute Frequencies:')\n",
    "print(data.Action.value_counts())\n",
    "print()\n",
    "\n",
    "print('Percentages:')\n",
    "print(data.Action.value_counts(normalize=True))\n",
    "\n",
    "data.Action.value_counts().plot(kind='bar')\n",
    "plt.title('Target (Action)')\n",
    "plt.grid()\n",
    "plt.show()"
   ]
  },
  {
   "cell_type": "markdown",
   "id": "49a1ccfe-485e-4eae-a20e-665c3c3b039e",
   "metadata": {},
   "source": [
    "### Analyzing Numerical features.\n",
    "\n",
    " The values are written in scientific notation, also known as exponential notation. I used \"np.log10(1+x)\" to compress the large scale of the numerical values to a more manageable range. \n",
    "\n",
    "- Upon analyzing the boxplot, it is evident that most of the features have a right-skewed distribution. This kind of skewness suggests that many observations typically involve smaller amounts of data or packets. However, it also indicates that some observations contain outliers that involve larger values (data or packets). In this context, it might be explained as large files transfers or streaming sessions on the network traffic.\n",
    "- After analyzing the histograms, it confirms that the majority of the observations contain small values (data or packet), then going towards the lower end of the graph with bigger values."
   ]
  },
  {
   "cell_type": "code",
   "execution_count": null,
   "id": "4a042488-b474-45f3-bd8c-2bfa9bac38d5",
   "metadata": {},
   "outputs": [],
   "source": [
    "features_num = ['Bytes', 'Bytes Sent', 'Bytes Received',\n",
    "                'Packets', 'Elapsed Time (sec)', \n",
    "                'pkts_sent', 'pkts_received']"
   ]
  },
  {
   "cell_type": "code",
   "execution_count": null,
   "id": "efb54525-903d-4de2-9a7d-4ba106b3b71a",
   "metadata": {},
   "outputs": [],
   "source": [
    "# define log trafo for numerical features\n",
    "def graph(x):\n",
    "    return np.log10(1+x)"
   ]
  },
  {
   "cell_type": "code",
   "execution_count": null,
   "id": "f14f8cd4-9bfb-4e9d-802b-0f63808460da",
   "metadata": {},
   "outputs": [],
   "source": [
    "# plot distribution of numerical features\n",
    "for f in features_num:\n",
    "    fig, (ax1, ax2) = plt.subplots(2, 1, figsize=(11,7), sharex=True)\n",
    "    ax1.hist(graph(data[f]), bins=20)\n",
    "    ax1.grid()\n",
    "    ax1.set_title('Feature: ' + f + ' -[log_10(1+x)]')\n",
    "    ax2.boxplot(graph(data[f]), vert=False)\n",
    "    ax2.grid()   \n",
    "    ax2.set_title('Feature: ' + f + ' -[log_10(1+x)]')\n",
    "    plt.show()"
   ]
  },
  {
   "cell_type": "markdown",
   "id": "71771704-a47f-470c-a046-8fb366ffc6ee",
   "metadata": {},
   "source": [
    "### Analyzing Categorical Features\n",
    "\n",
    "Even though these features are composed of numbers only, each number represents a specific port on the network (e.g. 443 = HTTPS). In this case would make no sense to use a boxplot as the range of the numbers won't mean anything. Instead, I have counted the most 10 values that appear on each feature.\n",
    "\n",
    "#### Most used ports in the dataset:\n",
    "- Source Port: Port 58638 (TCP/UCP).\n",
    "- Destination Port: Port 53 (DNS), 445 (SMB) and 443(HTTPS).\n",
    "- NAT Source Port: Port 0 has 28432 observations. * Might be represented by sessions that did NOT require a NAT Source Port, or missed data or packet.\n",
    "- NAT Destination Port: There are an equal number of 0s, but there are significant observations for ports 53 and 443, 15094 and 11678 respectively."
   ]
  },
  {
   "cell_type": "code",
   "execution_count": null,
   "id": "6174a3aa-d52f-42fc-9c8c-03385a72effa",
   "metadata": {},
   "outputs": [],
   "source": [
    "features_cat = ['Source Port', 'Destination Port', 'NAT Source Port', 'NAT Destination Port']"
   ]
  },
  {
   "cell_type": "code",
   "execution_count": null,
   "id": "25e5fc00-0a30-43bc-98db-9ad9a7ddf7ce",
   "metadata": {},
   "outputs": [],
   "source": [
    "# show only top 10 levels for each feature\n",
    "for f in features_cat:\n",
    "    print('Feature:', f)\n",
    "    print(data[f].value_counts()[0:10])\n",
    "    print()\n",
    "    data[f].value_counts()[0:10].plot(kind='bar')\n",
    "    plt.title(f)\n",
    "    plt.grid()\n",
    "    plt.show()"
   ]
  },
  {
   "cell_type": "code",
   "execution_count": null,
   "id": "c9d2b8f0-2174-476b-b6ff-0656bfa23fb3",
   "metadata": {},
   "outputs": [],
   "source": [
    "# visualize crosstable target vs feature (using top 10 levels only)\n",
    "for f in features_cat:\n",
    "    top10_levels = data[f].value_counts()[0:10].index.to_list()\n",
    "    data_temp = data[data[f].isin(top10_levels)]\n",
    "    ctab = pd.crosstab(data_temp.Action, data_temp[f])\n",
    "    print('Feature:' + f + ' - Top 10 levels only')\n",
    "    plt.figure(figsize=(12,5))\n",
    "    sns.heatmap(ctab, annot=True, fmt='d', \n",
    "                cmap='Blues',\n",
    "                linecolor='black',\n",
    "                linewidths=0.1)\n",
    "    plt.show()"
   ]
  },
  {
   "cell_type": "markdown",
   "id": "3e53576e-7d8f-4c92-a43c-d5caf2cf3d12",
   "metadata": {},
   "source": [
    "In the dataset, we could be able to notice that there are some \"Ports\" such 53, 80 and 443 that are highly correlated to \"Allow\", which make sense as they are related to web services (80 and 443) and DNS (53).\n",
    "The massive number of observations that contain the number 0 in the NAT Source Port and Destination Port, are mostly represented in \"Deny\" or \"Drop\"."
   ]
  },
  {
   "cell_type": "markdown",
   "id": "d2edc936-c701-43ac-a3d6-600bf4b4979c",
   "metadata": {},
   "source": [
    "### Correlation Matrix\n",
    "The correlation matrix is a square matrix that contains the Pearson product-moment correlation\n",
    "coefficient (often abbreviated as Pearson's r), which measures the linear dependence between pairs of\n",
    "features. The correlation coefficients are in the range –1 to 1. Two features have a perfect positive\n",
    "correlation if r = 1, no correlation if r = 0, and a perfect negative correlation if r = –1. As mentioned\n",
    "previously, Pearson's correlation coefficient can simply be calculated as the covariance between two\n",
    "features, x and y (numerator), divided by the product of their standard deviations (denominator).(Raschka and Mirjalili, 2019)\n",
    "\n",
    "In the following code example, we use .corr function on the eleven feature columns that we\n",
    "previously visualize, and we will use the heatmap graph to plot the correlation matrix:"
   ]
  },
  {
   "cell_type": "code",
   "execution_count": null,
   "id": "54aa7866-9c21-44b0-b432-2d0cd5cb0e4d",
   "metadata": {},
   "outputs": [],
   "source": [
    "# Selecting and storing all columns except the last one in a new variable\n",
    "data_corr = data.iloc[:, :-1]"
   ]
  },
  {
   "cell_type": "code",
   "execution_count": null,
   "id": "cc92e623-3c3c-4b6b-af5c-99ef7d44a276",
   "metadata": {},
   "outputs": [],
   "source": [
    "# Calculate the correlation matrix for the entire dataset\n",
    "correlation_matrix = data_corr.corr()\n",
    "\n",
    "\n",
    "# Plot the heatmap for the correlation matrix\n",
    "plt.figure(figsize=(14, 8))\n",
    "sns.heatmap(correlation_matrix, annot=True, fmt=\".2f\", cmap='coolwarm', annot_kws={\"size\": 10})\n",
    "plt.title('Correlation Matrix of Numerical Variables')\n",
    "plt.xticks()\n",
    "plt.yticks()\n",
    "plt.tight_layout() \n",
    "plt.show()"
   ]
  },
  {
   "cell_type": "markdown",
   "id": "74f129a1-753e-44f1-80a5-d856dfc7e318",
   "metadata": {},
   "source": []
  },
  {
   "cell_type": "markdown",
   "id": "4c74126d-6c4f-4835-a6b8-b6e9f1bdeb07",
   "metadata": {},
   "source": [
    "# DATA PREPARATION"
   ]
  },
  {
   "cell_type": "markdown",
   "id": "9ebc2dd0-d0aa-4dfd-9fd6-14b60a3c6345",
   "metadata": {},
   "source": [
    "Data preparation follows data understanding through EDA when data is manipulated and converted into forms that yield better results.(Provost and Fawcett, 2013)\n",
    "Preparing the data includes removing or inferring missing values, and converting data to different types. This is a crucial process, and maybe the one that most confuses Data Scientists, especially the ones who do not have any experience. Usually, when taking an e-course or YouTube tutorial, the datasets come with no missing values, no bias, no skewed data, and ready-to-apply models. In the real world, the majority time of your job is preparing the data to apply the models, which are pretty simple and do not take time (as long as the data is well-cleaned). In addition, numerical values must often be scaled or normalized, it depends on the data, to be comparable across the features. Different features scales can lead models that rely on the distance between data points, such as k-nearest neighbors (KNN), to perform very poorly.\n",
    "\n",
    "\n"
   ]
  },
  {
   "cell_type": "code",
   "execution_count": null,
   "id": "03c16612-960b-49cb-b648-267ee9bd3719",
   "metadata": {},
   "outputs": [],
   "source": [
    "# Check for missing values\n",
    "missing_values = data.isnull().sum()\n",
    "missing_values"
   ]
  },
  {
   "cell_type": "code",
   "execution_count": null,
   "id": "2dc31b76-fd8d-43ec-b84d-ff9c018e82cd",
   "metadata": {},
   "outputs": [],
   "source": [
    "# check for duplicates values\n",
    "duplicates = data[data.duplicated(keep=False)]  # Finds all duplicates, not just the first occurrence\n",
    "duplicates"
   ]
  },
  {
   "cell_type": "code",
   "execution_count": null,
   "id": "84d79d47-ffd6-4488-91f2-3d9b8cb56e31",
   "metadata": {},
   "outputs": [],
   "source": [
    "# Calculate the top unique values for each column\n",
    "top_unique_values = {column: duplicates[column].value_counts().head(3) for column in duplicates.columns}\n",
    "\n",
    "top_unique_values"
   ]
  },
  {
   "cell_type": "code",
   "execution_count": null,
   "id": "48885158-becb-49b0-80d2-56e0bb1fbbb9",
   "metadata": {},
   "outputs": [],
   "source": [
    "# Drop the duplicate rows from the original dataset\n",
    "#data.drop_duplicates(inplace=True)\n",
    "#data.info()"
   ]
  },
  {
   "cell_type": "code",
   "execution_count": null,
   "id": "d17c8d47-baf0-4c88-8de2-0e68c483493a",
   "metadata": {},
   "outputs": [],
   "source": []
  },
  {
   "cell_type": "code",
   "execution_count": null,
   "id": "d084e35c-88a7-42d8-82ad-c13d43e5628c",
   "metadata": {},
   "outputs": [],
   "source": [
    "label_encoder = preprocessing.LabelEncoder() \n",
    "  \n",
    "data['Action']= label_encoder.fit_transform(data['Action']) "
   ]
  },
  {
   "cell_type": "markdown",
   "id": "98bcdee0-9296-4f0d-8f5a-32fdce1fd9d8",
   "metadata": {},
   "source": []
  },
  {
   "cell_type": "markdown",
   "id": "b03759fa-6098-4dd4-9c69-18471642f01c",
   "metadata": {},
   "source": [
    "We are following to next step which is the modeling stage, where data mining techniques are applied to the data. It's the scientific and technological aspects that prepare the machine learning model for application. In this study, the problem is not only applying the selected models but also evaluating each of them. In addition, the model's parameters and attributes, will be tested to define which will be suitable for each model to better classify the predict incoming networking traffic.\n",
    "\n",
    "Then, we have the evaluation stage, which is to assess the data mining results and gain confidence that they are valid and reliable before moving on. It is possible to deploy results immediately after data mining but this is not the best way to proceed as your model might be not reliable\n",
    "In the real world, every business has a goal when applying a machine learning model, and the evaluation stage also serves to help ensure that the model satisfies it."
   ]
  },
  {
   "cell_type": "markdown",
   "id": "da439aa5-21d5-41ca-9ef9-83199da94fcb",
   "metadata": {},
   "source": [
    "# Machine Learning Models"
   ]
  },
  {
   "cell_type": "markdown",
   "id": "86ace07a-c24d-4107-9d0f-4a39e6943703",
   "metadata": {},
   "source": [
    "## Classification model"
   ]
  },
  {
   "cell_type": "markdown",
   "id": "671c99e5-11e7-4212-bfc3-ef085ff7ceb2",
   "metadata": {},
   "source": [
    "Classification is the process of finding a model (or function) that describes and distinguishes data classes or concepts. The model is derived based on the analysis of a set of training data. The model is used to predict the class label of objects for which the class label is unknown (Supervised Learning). “How is the derived model presented?” The derived model may be represented in various forms, such as classification rules. (Han and Kamber, 2006) The most known rule may be the IF-THEN rule, which has numerous applications, including target marketing, fraud detection, medical diagnosis, and performance predictions.\n",
    "\n",
    "Machine Learning Models are divided into different groups. They are: Supervised Learning, Unsupervised Learning, Semi-Supervised Learning and Active Learning and Reiforced Learning. Most of classification models are Supervised Learning, with some exceptions like Clustering, that can be used for categorization tasks without labeled data. "
   ]
  },
  {
   "cell_type": "markdown",
   "id": "470c4450-ee9d-47e2-b059-e97fd299f9bd",
   "metadata": {},
   "source": [
    "## Evaluation Metrics"
   ]
  },
  {
   "attachments": {
    "6623205b-4b00-4009-83aa-5ed0c207b552.png": {
     "image/png": "[encoded data removed]"
    },
    "d9196428-6c96-49bf-85ae-4fb69b893823.png": {
     "image/png": "[encoded data removed]"
    },
    "dab3c1e7-6f97-4349-b8db-4b6e55718a2f.png": {
     "image/png": "[encoded data removed]"
    },
    "ec2da144-040f-4471-805f-4566761e0301.png": {
     "image/png": "[encoded data removed]"
    },
    "ec421106-771c-4429-aa27-66f9f693f547.png": {
     "image/png": "[encoded data removed]"
    }
   },
   "cell_type": "markdown",
   "id": "8f9e9755-f9ee-424e-ba6f-5ef67d9d1465",
   "metadata": {},
   "source": [
    "This section presents the evaluation metrics used for the performance assessment of the classification models. This paper evaluates the classification performance of the used models using classification accuracy, precision, recall, F-measure, and ROC.\n",
    "\n",
    "\n",
    "Before we get into the details of different scoring metrics, let's take a look at a confusion matrix, a matrix that lays out the performance of a learning algorithm. A confusion matrix is simply a square matrix that reports the counts of the true positive (TP), true negative (TN), false positive (FP), and false negative (FN) predictions of a classifier, as shown in the following figure:\n",
    "\n",
    "![image.png](attachment:6623205b-4b00-4009-83aa-5ed0c207b552.png)\n",
    "\n",
    "Figure 1: Confusion Matrix (Raschka and Mirjalili, 2019)\n",
    "\n",
    "\n",
    "The accuracy demonstrates the proportion of the total number of correct predictions, which is the value of successfully classified instances. The classification accuracy is calculated by dividing the total number of predictions that were correct by the total number of predictions.\n",
    "\n",
    "![image.png](attachment:dab3c1e7-6f97-4349-b8db-4b6e55718a2f.png)\n",
    "\n",
    "Figure 2: Accuracy (Aljabri et al., 2022)\n",
    "\n",
    "\n",
    "Precision is calculated quantifying the number of positives, “Anomalous” instances out of all the instances predicted as “Anomalous”. \n",
    "\n",
    "\n",
    "![image.png](attachment:d9196428-6c96-49bf-85ae-4fb69b893823.png)\n",
    "\n",
    "Figure 3: Precision (Aljabri et al., 2022)\n",
    "\n",
    "\n",
    "As for recall, it also predicts the positive class predictions, however, it is calculated over the number of “Anomalous” instances in the dataset itself regardless of whether or not they were correctly predicted. \n",
    "\n",
    "\n",
    "![image.png](attachment:ec2da144-040f-4471-805f-4566761e0301.png)\n",
    "\n",
    "Figure 4: Recall (Aljabri et al., 2022)\n",
    "\n",
    "\n",
    "Finally, the F-measure provides a single count that combines the values of the precision and recall in one number.\n",
    "\n",
    "\n",
    "![image.png](attachment:ec421106-771c-4429-aa27-66f9f693f547.png)\n",
    "\n",
    "Figure 5: F-measure (Aljabri et al., 2022)"
   ]
  },
  {
   "cell_type": "markdown",
   "id": "d3b15b3b-8af6-49f6-8e69-7fc8eb826f03",
   "metadata": {},
   "source": [
    "## Decision Tree"
   ]
  },
  {
   "cell_type": "code",
   "execution_count": null,
   "id": "6ad83d88-98c1-4a81-a189-94e6d557ea45",
   "metadata": {},
   "outputs": [],
   "source": []
  },
  {
   "cell_type": "code",
   "execution_count": null,
   "id": "6f6f20ab-7d47-4ae2-bef9-7631040fcefe",
   "metadata": {},
   "outputs": [],
   "source": [
    "X = data.iloc[:, :-1].values\n",
    "y = data.iloc[:, -1].values\n"
   ]
  },
  {
   "cell_type": "code",
   "execution_count": null,
   "id": "91aac6a7-3fb0-46ba-b404-1658dc9ae6fa",
   "metadata": {},
   "outputs": [],
   "source": [
    "# Splitting the dataset into the Training set and Test set\n",
    "from sklearn.model_selection import train_test_split\n",
    "X_train, X_test, y_train, y_test = train_test_split(X, y, test_size = 0.20)"
   ]
  },
  {
   "cell_type": "code",
   "execution_count": null,
   "id": "0bf770a8-ed49-43ea-b7e7-0b4701e7e260",
   "metadata": {},
   "outputs": [],
   "source": [
    "# Define the base model\n",
    "dtc = DecisionTreeClassifier(random_state=42)\n",
    "\n",
    "# Define the grid of parameters to search\n",
    "param_DT = {\n",
    "    'criterion': ['gini', 'entropy'],\n",
    "    'max_depth': [None, 10, 20, 30],\n",
    "    'min_samples_split': [2, 4, 6],\n",
    "    'min_samples_leaf': [1, 2, 4]\n",
    "}"
   ]
  },
  {
   "cell_type": "code",
   "execution_count": null,
   "id": "b55d28e3-8d99-4dc5-ada0-720524029666",
   "metadata": {},
   "outputs": [],
   "source": [
    "grid_search = GridSearchCV(estimator=dtc, param_grid=param_DT, cv=5, verbose=2, n_jobs=-1)"
   ]
  },
  {
   "cell_type": "code",
   "execution_count": null,
   "id": "4a51a471-67d3-4784-b939-45bc325a7ea0",
   "metadata": {},
   "outputs": [],
   "source": [
    "grid_search.fit(X_train, y_train)"
   ]
  },
  {
   "cell_type": "code",
   "execution_count": null,
   "id": "0fa715e4-be52-40f4-9e4d-bb72fb2c673b",
   "metadata": {},
   "outputs": [],
   "source": [
    "print(\"Best Parameters:\", grid_search.best_params_)\n",
    "print(\"Best Score:\", grid_search.best_score_)"
   ]
  },
  {
   "cell_type": "code",
   "execution_count": null,
   "id": "ad2da438-5452-41e1-8c1a-53313b3797b5",
   "metadata": {},
   "outputs": [],
   "source": [
    "best_modelDT = grid_search.best_estimator_\n",
    "test_scoreDT = best_modelDT.score(X_test, y_test)\n",
    "print(\"Test Score:\", test_scoreDT)"
   ]
  },
  {
   "cell_type": "code",
   "execution_count": null,
   "id": "83c73ef7-6daa-4cde-af44-327c896a45a8",
   "metadata": {},
   "outputs": [],
   "source": []
  },
  {
   "cell_type": "code",
   "execution_count": null,
   "id": "f98fa1d7-9596-49e3-ac5a-79277ffb03c0",
   "metadata": {},
   "outputs": [],
   "source": []
  },
  {
   "cell_type": "code",
   "execution_count": null,
   "id": "0cc0cfbf-2cbb-451f-bd8c-50b05ccc54d5",
   "metadata": {},
   "outputs": [],
   "source": [
    "# Training the Decision Tree Classification model on the Training set\n",
    "classifierDt = DecisionTreeClassifier(criterion = 'entropy', max_depth = None, min_samples_leaf = 4, min_samples_split = 2)\n",
    "classifierDt.fit(X_train, y_train)"
   ]
  },
  {
   "cell_type": "code",
   "execution_count": null,
   "id": "450f374b-1b86-4146-8ca5-b5897c5a9671",
   "metadata": {},
   "outputs": [],
   "source": [
    "# Predicting the Test set results\n",
    "y_pred = classifierDt.predict(X_test)\n",
    "print(np.concatenate((y_pred.reshape(len(y_pred),1), y_test.reshape(len(y_test),1)),1))"
   ]
  },
  {
   "cell_type": "code",
   "execution_count": null,
   "id": "d1f97553-77b7-4e7b-8fb5-eaa40b0ecee2",
   "metadata": {},
   "outputs": [],
   "source": [
    "mat_confDT = confusion_matrix(y_test, y_pred)\n",
    "print(mat_confDT)\n",
    "print(classification_report(y_test, y_pred))\n",
    "print(accuracy_score(y_test, y_pred))\n",
    "plt.figure( figsize = (8,5))\n",
    "sns.heatmap(mat_confDT, annot=True, fmt=\".1f\")\n"
   ]
  },
  {
   "cell_type": "code",
   "execution_count": null,
   "id": "518180e9-ca83-4a59-bb56-c5b470f40506",
   "metadata": {},
   "outputs": [],
   "source": []
  },
  {
   "cell_type": "markdown",
   "id": "9197ae4f-4ba9-47d7-913d-913b4e2f065e",
   "metadata": {},
   "source": [
    "## Random Forest\n"
   ]
  },
  {
   "cell_type": "code",
   "execution_count": null,
   "id": "cce0640a-ed9d-497b-9f25-9e38537ee332",
   "metadata": {},
   "outputs": [],
   "source": []
  },
  {
   "cell_type": "code",
   "execution_count": null,
   "id": "9ef46336-34ff-48df-b3ca-b74fb0912b46",
   "metadata": {},
   "outputs": [],
   "source": [
    "# Define the base model\n",
    "rfc = RandomForestClassifier(random_state=42)\n",
    "\n",
    "# Specify parameters and distributions to sample from\n",
    "param_RF = {\n",
    "    'n_estimators': [100, 200, 300],\n",
    "    'criterion': ['gini', 'entropy'],\n",
    "    'max_depth': [None, 10, 20, 30],\n",
    "    'min_samples_split': [2, 4, 6],\n",
    "    'min_samples_leaf': [1, 2, 4],\n",
    "    'max_features': ['auto', 'log2']\n",
    "}"
   ]
  },
  {
   "cell_type": "code",
   "execution_count": null,
   "id": "d2406fbf-69b8-4e83-9259-2e39e4810ff9",
   "metadata": {},
   "outputs": [],
   "source": [
    "# Setup the randomized search with 10 iterations and a cross-validation of 5\n",
    "#randomized_search = RandomizedSearchCV(rfc, param_distributions=param_RF, n_iter=10, cv=5, verbose=1, scoring ='accuracy', n_jobs=-1)\n"
   ]
  },
  {
   "cell_type": "code",
   "execution_count": null,
   "id": "2999dd05-05cb-44cb-a6c6-ad3335ec6177",
   "metadata": {},
   "outputs": [],
   "source": [
    "randomized_search.fit(X_train, y_train)"
   ]
  },
  {
   "cell_type": "code",
   "execution_count": null,
   "id": "bb3ae17e-9288-4e41-b035-e5d9f04da7e6",
   "metadata": {},
   "outputs": [],
   "source": [
    "print(\"Best Parameters:\", randomized_search.best_params_)\n",
    "print(\"Best Score:\", randomized_search.best_score_)"
   ]
  },
  {
   "cell_type": "code",
   "execution_count": null,
   "id": "526e1c6a-bc11-4ce0-ad40-f15a03dc9e65",
   "metadata": {},
   "outputs": [],
   "source": [
    "best_modelRF = randomized_search.best_estimator_\n",
    "test_scoreRF = randomized_search.score(X_test, y_test)\n",
    "#test_scoreRF = best_modelRF.score(X_test, y_test)\n",
    "print(\"Test Score:\", test_scoreRF)"
   ]
  },
  {
   "cell_type": "code",
   "execution_count": null,
   "id": "d5a21875-00d3-438b-95d9-daed7b8b08b9",
   "metadata": {},
   "outputs": [],
   "source": []
  },
  {
   "cell_type": "code",
   "execution_count": null,
   "id": "68931989-57a6-4919-8042-8a6524051e79",
   "metadata": {},
   "outputs": [],
   "source": []
  },
  {
   "cell_type": "code",
   "execution_count": null,
   "id": "8f27867a-4d43-4430-a4b5-082093cef618",
   "metadata": {},
   "outputs": [],
   "source": [
    "# Training the Random Forest Classification model on the Training set\n",
    "classifierRf = RandomForestClassifier(n_estimators = 100, min_samples_split = 4, min_samples_leaf = 2, max_features = 'auto', max_depth = 10, criterion = 'entropy')\n",
    "classifierRf.fit(X_train, y_train)"
   ]
  },
  {
   "cell_type": "code",
   "execution_count": null,
   "id": "62e1056c-5659-4733-ad22-b3190335403b",
   "metadata": {},
   "outputs": [],
   "source": [
    "# Predicting the Test set results\n",
    "y_pred = classifierRf.predict(X_test)\n",
    "print(np.concatenate((y_pred.reshape(len(y_pred),1), y_test.reshape(len(y_test),1)),1))"
   ]
  },
  {
   "cell_type": "code",
   "execution_count": null,
   "id": "0718f2b1-56bb-40c1-87f2-c3cda4b1668a",
   "metadata": {},
   "outputs": [],
   "source": [
    "mat_confRF = confusion_matrix(y_test, y_pred)\n",
    "print(mat_confRF)\n",
    "print(classification_report(y_test, y_pred))\n",
    "print(accuracy_score(y_test, y_pred))\n",
    "plt.figure( figsize = (8,5))\n",
    "sns.heatmap(mat_confRF, annot=True, fmt=\".1f\")"
   ]
  },
  {
   "cell_type": "code",
   "execution_count": null,
   "id": "3a316d24-7b87-40dc-b7df-2acb8432dcab",
   "metadata": {},
   "outputs": [],
   "source": []
  },
  {
   "cell_type": "markdown",
   "id": "22f988b5-17c6-4309-9cc7-a18313a5d904",
   "metadata": {},
   "source": [
    "## K-Nearest Neighbour"
   ]
  },
  {
   "cell_type": "code",
   "execution_count": null,
   "id": "778b1004-0ebf-4e28-a058-7734bed0fb37",
   "metadata": {},
   "outputs": [],
   "source": []
  },
  {
   "cell_type": "code",
   "execution_count": null,
   "id": "8f9fb07f-6d28-4517-b80a-68e7fb849e28",
   "metadata": {},
   "outputs": [],
   "source": [
    "# Define the base model\n",
    "knn = KNeighborsClassifier()\n",
    "\n",
    "# Specify parameters and distributions to sample from\n",
    "param_dist_knn = {\n",
    "    'n_neighbors': [3, 5, 7, 9, 11],  # Number of neighbors to use\n",
    "    'weights': ['uniform', 'distance'],  # Weight function used in prediction\n",
    "    'algorithm': ['auto', 'ball_tree', 'kd_tree', 'brute'],  # Algorithm used to compute the nearest neighbors\n",
    "    'leaf_size': [20, 30, 40, 50],  # Leaf size passed to BallTree or KDTree\n",
    "    'p': [1, 2]  # Power parameter for the Minkowski metric\n",
    "}"
   ]
  },
  {
   "cell_type": "code",
   "execution_count": null,
   "id": "9c5489b8-84e8-485d-9970-596f6a6f30fe",
   "metadata": {},
   "outputs": [],
   "source": [
    "# Initialize the RandomizedSearchCV object\n",
    "random_search = RandomizedSearchCV(knn, param_distributions=param_dist_knn, n_iter=10, cv=5, verbose=2, n_jobs=-1, random_state=42)"
   ]
  },
  {
   "cell_type": "code",
   "execution_count": null,
   "id": "09b6c75c-b619-4b50-83b3-a72dab8dc05a",
   "metadata": {},
   "outputs": [],
   "source": [
    "# Fit the model\n",
    "random_search.fit(X_train, y_train)"
   ]
  },
  {
   "cell_type": "code",
   "execution_count": null,
   "id": "f22cdce1-0e2b-45f2-8d70-d72e5a77f5fb",
   "metadata": {},
   "outputs": [],
   "source": [
    "# Print the best parameters and the corresponding score\n",
    "print(\"Best Parameters found: \", random_search.best_params_)\n",
    "print(\"Best score found: \", random_search.best_score_)"
   ]
  },
  {
   "cell_type": "code",
   "execution_count": null,
   "id": "4f4bd593-b44a-4766-bf97-d3739f9b7b3f",
   "metadata": {},
   "outputs": [],
   "source": [
    "best_modelKNN = random_search.best_estimator_\n",
    "test_scoreKNN = random_search.score(X_test, y_test)\n",
    "#test_scoreKNN = best_modelKNN.score(X_test, y_test)\n",
    "print(\"Test Score:\", test_scoreKNN)"
   ]
  },
  {
   "cell_type": "code",
   "execution_count": null,
   "id": "8635ff19-48d0-48e0-a4b3-9388b98f6226",
   "metadata": {},
   "outputs": [],
   "source": []
  },
  {
   "cell_type": "code",
   "execution_count": null,
   "id": "708c10ee-1604-4671-91af-3131bf2e1084",
   "metadata": {},
   "outputs": [],
   "source": [
    "#Training the model\n",
    "\n",
    "classifierKnn = KNeighborsClassifier (weights = 'distance', p = 1, n_neighbors = 5, leaf_size = 30, algorithm = 'auto')\n",
    "classifierKnn.fit(X_train, y_train)"
   ]
  },
  {
   "cell_type": "code",
   "execution_count": null,
   "id": "e85fc00f-265f-41a2-abfb-56d4dd4438b5",
   "metadata": {},
   "outputs": [],
   "source": [
    "# Predicting the Test set results\n",
    "y_pred = classifierKnn.predict(X_test)\n",
    "print(np.concatenate((y_pred.reshape(len(y_pred),1), y_test.reshape(len(y_test),1)),1))"
   ]
  },
  {
   "cell_type": "code",
   "execution_count": null,
   "id": "4a89ff9e-cad2-4f96-8fa1-4ed00f0b238b",
   "metadata": {},
   "outputs": [],
   "source": [
    "mat_confKnn = confusion_matrix(y_test, y_pred)\n",
    "print(mat_confKnn)\n",
    "print(classification_report(y_test, y_pred))\n",
    "print(accuracy_score(y_test, y_pred))\n",
    "plt.figure( figsize = (8,5))\n",
    "sns.heatmap(mat_confKnn, annot=True, fmt=\".1f\")"
   ]
  },
  {
   "cell_type": "code",
   "execution_count": null,
   "id": "aa6ff357-f5f4-4d94-a498-55a92c29aa2b",
   "metadata": {},
   "outputs": [],
   "source": []
  },
  {
   "cell_type": "markdown",
   "id": "36d341c7-9e90-460f-823b-d5f46496cf5d",
   "metadata": {},
   "source": [
    "# References"
   ]
  },
  {
   "cell_type": "markdown",
   "id": "8ed47e21-8bab-4725-9e9a-4d6fb36ad5eb",
   "metadata": {},
   "source": [
    "Raschka, S. and Mirjalili, V. (2019). Python machine learning : machine learning and deep learning with python, scikit-learn, and tensorflow 2. Birmingham: Packt Publishing, Limited.\n",
    "\n",
    "‌Provost, F. and Fawcett, T. (2013). Data science for business : what you need to know aboout data mining an data-anal. Beijing Etc.: O’reilly.\r\n",
    "\r",
    "Kirk, M. (2017). Thoughtful Machine Learning with Python. ‘O’Reilly Media, Inc.’\r\n",
    "\r",
    "Andriy Burkov (2019). THE HUNDRED-PAGE MACHINE LEARNING BOOK. Andriy Burkov.\r\n",
    "\r",
    "Müller, A.C. and Guido, S. (2017). Introduction to machine learning with Python : a guide for data scientists. Beijing: O’reilly.\r\n",
    "\r",
    "scikit-learn (2019). sklearn.model_selection.RandomizedSearchCV — scikit-learn 0.21.3 documentation. [online] Scikit-learn.org. Available at: https://scikit-learn.org/stable/modules/generated/sklearn.model_selection.RandomizedSearchCV.html.\r\n",
    "\r",
    "scikit-learn (2019). sklearn.model_selection.GridSearchCV — scikit-learn 0.22 documentation. [online] Scikit-learn.org. Available at: https://scikit-learn.org/stable/modules/generated/sklearn.model_selection.GridSearchCV.html.\r\n",
    "\r",
    "scikit-learn (2019). sklearn.neighbors.KNeighborsClassifier — scikit-learn 0.22.1 documentation. [online] Scikit-learn.org. Available at: https://scikit-learn.org/stable/modules/generated/sklearn.neighbors.KNeighborsClassifier.html.\r\n",
    "\r",
    "Scikit-learn (2018). sklearn.ensemble.RandomForestClassifier — scikit-learn 0.20.3 documentation. [online] Scikit-learn.org. Available at: https://scikit-learn.org/stable/modules/generated/sklearn.ensemble.RandomForestClassifier.html.\r\n",
    "\r",
    "scikit learn (2019). sklearn.tree.DecisionTreeClassifier — scikit-learn 0.22.1 documentation. [online] Scikit-learn.org. Available at: https://scikit-learn.org/stable/modules/generated/sklearn.tree.DecisionTreeClassifihtmlHan, J. and Kamber, M. (2006). Data mining : concepts and techniques. Amsterdam: Elsevier.\r\n",
    "\r",
    "Aljabri, M., Alahmadi, A.A., Mohammad, R.M.A., Aboulnour, M., Alomari, D.M. and Almotiri, S.H. (2022). Classification of Firewall Log Data Using Multiclass Machine Learning Models. Electronics, 11(12), p.1851. doi:https://doi.org/10.3390/electronics11121851.\r\n",
    "\r\n",
    "‌\n",
    "‌.\r\n",
    "\r\n",
    "‌\n",
    "‌\n",
    "‌\n",
    "‌\n",
    "‌\n",
    "‌\n",
    "‌\n",
    "‌\n",
    "‌"
   ]
  },
  {
   "cell_type": "code",
   "execution_count": null,
   "id": "ce7835ef-b302-4312-86ff-89ca285128d8",
   "metadata": {},
   "outputs": [],
   "source": []
  }
 ],
 "metadata": {
  "kernelspec": {
   "display_name": "Python 3 (ipykernel)",
   "language": "python",
   "name": "python3"
  },
  "language_info": {
   "codemirror_mode": {
    "name": "ipython",
    "version": 3
   },
   "file_extension": ".py",
   "mimetype": "text/x-python",
   "name": "python",
   "nbconvert_exporter": "python",
   "pygments_lexer": "ipython3",
   "version": "3.11.7"
  }
 },
 "nbformat": 4,
 "nbformat_minor": 5
}
